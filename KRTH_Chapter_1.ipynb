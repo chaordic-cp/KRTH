{
  "nbformat": 4,
  "nbformat_minor": 0,
  "metadata": {
    "colab": {
      "provenance": [],
      "authorship_tag": "ABX9TyOqRt0ffdX3wntuQ1X1ovEt",
      "include_colab_link": true
    },
    "kernelspec": {
      "name": "python3",
      "display_name": "Python 3"
    },
    "language_info": {
      "name": "python"
    }
  },
  "cells": [
    {
      "cell_type": "markdown",
      "metadata": {
        "id": "view-in-github",
        "colab_type": "text"
      },
      "source": [
        "<a href=\"https://colab.research.google.com/github/chaordic-cp/KRTH/blob/main/KRTH_Chapter_1.ipynb\" target=\"_parent\"><img src=\"https://colab.research.google.com/assets/colab-badge.svg\" alt=\"Open In Colab\"/></a>"
      ]
    },
    {
      "cell_type": "markdown",
      "source": [
        "Chapter 1: A Brief Review of Probability Theory\n",
        "\n",
        "Q1: Initial Prisce of stocks A and B were, respectively \\$10 and \\$100. Later the prices grew to $20 and $150. Which stock performed better?"
      ],
      "metadata": {
        "id": "kNSzPN6tz_as"
      }
    },
    {
      "cell_type": "code",
      "source": [
        "a0 = 10.0\n",
        "b0 = 100.0\n",
        "a1 = 20.0\n",
        "b1 = 150.0\n",
        "# write a brief function to calculate the return of each stock\n",
        "\n",
        "def perc_return(start_price, end_price):\n",
        "  r = (end_price - start_price) / start_price\n",
        "  return r\n",
        "\n",
        "print(perc_return(a0, a1), perc_return(b0, b1))"
      ],
      "metadata": {
        "colab": {
          "base_uri": "https://localhost:8080/"
        },
        "id": "fVbLYAX00VRq",
        "outputId": "df592e71-1990-4ac3-e7f6-9695cdb48d6f"
      },
      "execution_count": null,
      "outputs": [
        {
          "output_type": "stream",
          "name": "stdout",
          "text": [
            "1.0 0.5\n"
          ]
        }
      ]
    },
    {
      "cell_type": "markdown",
      "source": [
        "A1: We calculate the % return for both stock A and stock B, this is the end price minus the start price then divded by the start price. We find that stock A returned 100% versus stock B only returned 50%, thus stock A performed better than stock B."
      ],
      "metadata": {
        "id": "pvrO3yfD1kfc"
      }
    },
    {
      "cell_type": "markdown",
      "source": [
        "Q2: A portfolio consists of three stocks; their weights in portfolio are equal. After a year the first stock yielded 15%, the second -20% and the third one 10%. What is the portfolios total return?"
      ],
      "metadata": {
        "id": "fU2w5FC617Ts"
      }
    },
    {
      "cell_type": "code",
      "source": [
        "# we need to write a function that will calculate the return on a portfolio over time given annual returns\n",
        "\n",
        "def annual_return(start_price, ret):\n",
        "  final_price = start_price * (1.0 + ret)\n",
        "  return final_price\n",
        "\n",
        "print(annual_return(start_price = annual_return(start_price = annual_return(start_price = 1.0, ret = .15), ret = -0.2), ret = 0.1))\n"
      ],
      "metadata": {
        "colab": {
          "base_uri": "https://localhost:8080/"
        },
        "id": "JO4YmyDJ2UaW",
        "outputId": "5260d678-8dcc-47b8-90e7-d555c06668d1"
      },
      "execution_count": null,
      "outputs": [
        {
          "output_type": "stream",
          "name": "stdout",
          "text": [
            "1.012\n"
          ]
        }
      ]
    },
    {
      "cell_type": "markdown",
      "source": [
        "A2: The total return on the portfolio is 1.2% based on 1.15 x 0.8 x 1.1."
      ],
      "metadata": {
        "id": "eetY2dfF3S-h"
      }
    },
    {
      "cell_type": "markdown",
      "source": [
        "Q3: A trader invested his capital in an ETF on RTS. The return for the first year was 10%, for the second year was 15% but for the third year -20%. After the 3rd year a trader sold his portfolio, how much has he earned?\n",
        "\n",
        "A3: The answer here is the same as the above, the total return is 1.167% or ~1.2%. However the annual growth rate is just 0.4%"
      ],
      "metadata": {
        "id": "ENoHky6w3hMD"
      }
    },
    {
      "cell_type": "markdown",
      "source": [
        "Q4: A similar situation as by Q3 but now the returns were -20%, 15%, 10%, does the order of the returns matter? \n",
        "\n",
        "A4: In this case, we are just multiply the annual returns, so the order does not matter. The total return will still be the same as the first case."
      ],
      "metadata": {
        "id": "eEQUkZQ02wv3"
      }
    },
    {
      "cell_type": "markdown",
      "source": [
        "Q5: A stock dropped by x% then grew by y% and returned to its initial price. Write a formula to express y via x. \n",
        "\n",
        "A4: suppose the starting price is 1. \n",
        "\n",
        "then $1 = 1*(1-x)*(1+y)$\n",
        "  so $1/(1-x) = 1 + y $\n",
        "  thus $1/(1-x) - 1 = y$\n"
      ],
      "metadata": {
        "id": "6p_VKV5-3gwz"
      }
    },
    {
      "cell_type": "markdown",
      "source": [
        "Q6: A trader bought a stock, held it for three months and then sold, yielding 5%. What is his annualized growth rate?\n",
        "\n",
        "A6: We can count 3 months as exactly a quarter of a year, we can consider that $(1+r)^1 = the annualized growth rate$. We have a quarter of the year so we can solve $(1+r)^.25 = 1.05$ which we can solve using logs such that $0.25log(1+r) = log(1.05)$, so $log(1+r) = log(1.05)/0.25$ and finally $(1+r) = exp(log(1.05)/0.25)$. This yields $r = 0.21$"
      ],
      "metadata": {
        "id": "IY7PH6mM5Cig"
      }
    },
    {
      "cell_type": "markdown",
      "source": [
        "Q7: If we want to double our wealth in five years, which annualized growth reate do we need?\n",
        "\n",
        "A7: $(1+r)^5 = 2$, solving this we get $5log(1+r) = 2$ yielding $r = exp(0.4) - 1$ yielding r = .15. \n",
        "\n",
        "Note the formual for CAGR:\n",
        "$r = exp(\\frac{ln(1+R)}{t}) - 1$"
      ],
      "metadata": {
        "id": "ct703DzU68TS"
      }
    },
    {
      "cell_type": "markdown",
      "source": [
        "Q8: One thousand people took a new medicine. One of them had an allergic reation. What is the probability of the allergic response?\n",
        "\n",
        "A8: The probability estimate according to this data is 1/1000 = 0.1%."
      ],
      "metadata": {
        "id": "UUEr1oflHlxQ"
      }
    },
    {
      "cell_type": "markdown",
      "source": [
        "Q9: A deck consists of 36 cards. What are the probabilities a) to get a queen b) to get spades c) to get the queen of spades. \n",
        "\n",
        "A9: \n",
        "a) 4/36 = 1/9\n",
        "b) 9/36 = 1/4\n",
        "c) 1/36"
      ],
      "metadata": {
        "id": "Wa50is4fKMNC"
      }
    },
    {
      "cell_type": "markdown",
      "source": [
        "Q10: One has tossed a coin ten times and got ten heads. What is the probability to get a head by the eleventh toss?\n",
        "\n",
        "A10: 50%"
      ],
      "metadata": {
        "id": "9BKtC7gQKn5m"
      }
    },
    {
      "cell_type": "markdown",
      "source": [
        "Q11: The first bank account pays 6% annually, the second pays 3% semi-annually, the third pays 1.5% quarterly and the fourth pays 0.5% monthly. Which bank account is better assuming they all can be considered risk free?\n",
        "\n",
        "A11: the fourth would be considered the best because it is compounding monthly. \n",
        "\n",
        "for example, the value of your money after 1 year\n",
        "bank 1: 1.06\n",
        "bank 2: (1.03)^2 = 1.0609\n",
        "bank 3: (1.015)^4 = 1.0613\n",
        "bank 4: (1.005)^12 = 1.0617"
      ],
      "metadata": {
        "id": "I7YjuXPhLL9h"
      }
    },
    {
      "cell_type": "markdown",
      "source": [
        "2 Key Formulas:\n",
        "\n",
        "continuous interest:\n",
        "$\\lim_{n\\to\\infty}(1+\\frac{r}{n}) = exp(rt)$ \n",
        "\n",
        "logarithmic returns:\n",
        "$r=\\frac{1}{t}ln(\\frac{W_1}{W_0}) = \\frac{ln(W_1) - ln(W_0)}{t}$"
      ],
      "metadata": {
        "id": "bIO9_j4VMfkU"
      }
    },
    {
      "cell_type": "code",
      "source": [
        "# coding problem\n",
        "# calculate the probability of at least 60 heads in 100 tosses\n",
        "# this can be calculated using the binomial distribution\n",
        "# pip install scipy\n",
        "import scipy as sp\n",
        "from scipy.stats import binom\n",
        "## calculate this bby getting the density of <= 59 heads and substract this value from 1\n",
        "print('The exact solution:', 1- binom.cdf(59, 100, .5))\n",
        "\n",
        "##alternatively we can simulate this\n",
        "print('The simulated solution:', sum(binom.rvs(100, 0.5, size=10000) >= 60) / 10000)"
      ],
      "metadata": {
        "colab": {
          "base_uri": "https://localhost:8080/"
        },
        "id": "hMD-3yhINpZj",
        "outputId": "d6bb531a-07cc-4565-8d9f-e56f7a7fb7b1"
      },
      "execution_count": null,
      "outputs": [
        {
          "output_type": "stream",
          "name": "stdout",
          "text": [
            "The exact solution: 0.02844396682049044\n",
            "The simulated solution: 0.0274\n"
          ]
        }
      ]
    }
  ]
}